{
 "cells": [
  {
   "cell_type": "markdown",
   "metadata": {},
   "source": [
    "# NLP Basics: News Headlines Analysis\n",
    "\n",
    "Welcome to your first NLP homework! In this notebook, you will work with a dataset of news headlines and learn basic text analysis techniques.\n",
    "\n",
    "**Instructions:**\n",
    "- Sections marked **COMPLETED** are examples for you to study\n",
    "- Sections marked **TODO** are for you to complete\n",
    "- Run each cell in order\n",
    "- Add your code where you see `# YOUR CODE HERE`\n",
    "\n",
    "Let's get started!"
   ]
  },
  {
   "cell_type": "markdown",
   "metadata": {},
   "source": [
    "## 1. Introduction & Data Loading (COMPLETED)\n",
    "\n",
    "First, we need to import the libraries we'll use and load our dataset."
   ]
  },
  {
   "cell_type": "code",
   "execution_count": null,
   "metadata": {},
   "outputs": [],
   "source": [
    "# Import necessary libraries\n",
    "import pandas as pd\n",
    "import matplotlib.pyplot as plt\n",
    "from collections import Counter\n",
    "\n",
    "# Set visualization style\n",
    "plt.style.use('ggplot')\n",
    "%matplotlib inline"
   ]
  },
  {
   "cell_type": "code",
   "execution_count": null,
   "metadata": {},
   "outputs": [],
   "source": [
    "# Load the dataset\n",
    "df = pd.read_csv('news_headlines_dataset.csv')\n",
    "\n",
    "# Display first 10 rows\n",
    "print(\"First 10 headlines:\")\n",
    "print(df.head(10))"
   ]
  },
  {
   "cell_type": "code",
   "execution_count": null,
   "metadata": {},
   "outputs": [],
   "source": [
    "# Get basic information about the dataset\n",
    "print(f\"Dataset shape: {df.shape}\")\n",
    "print(f\"\\nColumn names: {list(df.columns)}\")\n",
    "print(f\"\\nData types:\")\n",
    "print(df.dtypes)"
   ]
  },
  {
   "cell_type": "markdown",
   "metadata": {},
   "source": [
    "## 2. Exploring the Data (TODO)\n",
    "\n",
    "Now it's your turn! Let's explore the dataset to understand what we have."
   ]
  },
  {
   "cell_type": "code",
   "execution_count": null,
   "metadata": {},
   "outputs": [],
   "source": [
    "# TODO: How many headlines are in each category?\n",
    "# Hint: Use .value_counts() on the 'category' column\n",
    "\n",
    "# YOUR CODE HERE\n"
   ]
  },
  {
   "cell_type": "code",
   "execution_count": null,
   "metadata": {},
   "outputs": [],
   "source": [
    "# TODO: Create a bar chart showing the number of headlines per category\n",
    "# Hint: Use .value_counts().plot(kind='bar')\n",
    "\n",
    "# YOUR CODE HERE\n",
    "\n",
    "plt.title('Headlines per Category')\n",
    "plt.xlabel('Category')\n",
    "plt.ylabel('Number of Headlines')\n",
    "plt.show()"
   ]
  },
  {
   "cell_type": "code",
   "execution_count": null,
   "metadata": {},
   "outputs": [],
   "source": [
    "# TODO: What is the average word count across all headlines?\n",
    "# Hint: Use .mean() on the 'word_count' column\n",
    "\n",
    "# YOUR CODE HERE\n"
   ]
  },
  {
   "cell_type": "markdown",
   "metadata": {},
   "source": [
    "## 3. Text Basics (COMPLETED)\n",
    "\n",
    "Let's learn how to work with text data. We'll start with a single headline."
   ]
  },
  {
   "cell_type": "code",
   "execution_count": null,
   "metadata": {},
   "outputs": [],
   "source": [
    "# Get the first headline\n",
    "example_headline = df['headline'].iloc[0]\n",
    "print(f\"Original headline: {example_headline}\")\n",
    "print(f\"Type: {type(example_headline)}\")"
   ]
  },
  {
   "cell_type": "code",
   "execution_count": null,
   "metadata": {},
   "outputs": [],
   "source": [
    "# Convert to lowercase\n",
    "lowercase_headline = example_headline.lower()\n",
    "print(f\"Lowercase: {lowercase_headline}\")"
   ]
  },
  {
   "cell_type": "code",
   "execution_count": null,
   "metadata": {},
   "outputs": [],
   "source": [
    "# Split into words (tokenization)\n",
    "words = example_headline.split()\n",
    "print(f\"Words: {words}\")\n",
    "print(f\"Number of words: {len(words)}\")"
   ]
  },
  {
   "cell_type": "markdown",
   "metadata": {},
   "source": [
    "## 4. Working with All Headlines (TODO)\n",
    "\n",
    "Now let's apply these operations to all headlines in the dataset."
   ]
  },
  {
   "cell_type": "code",
   "execution_count": null,
   "metadata": {},
   "outputs": [],
   "source": [
    "# TODO: Create a new column with all headlines in lowercase\n",
    "# Hint: Use .str.lower() on the 'headline' column\n",
    "\n",
    "# YOUR CODE HERE\n",
    "\n",
    "# Display first 5 headlines\n",
    "print(df[['headline', 'headline_lower']].head())"
   ]
  },
  {
   "cell_type": "code",
   "execution_count": null,
   "metadata": {},
   "outputs": [],
   "source": [
    "# TODO: Count the total number of words across ALL headlines\n",
    "# Hint: Sum the 'word_count' column\n",
    "\n",
    "# YOUR CODE HERE\n"
   ]
  },
  {
   "cell_type": "code",
   "execution_count": null,
   "metadata": {},
   "outputs": [],
   "source": [
    "# TODO: Find the longest and shortest headlines\n",
    "# Hint: Use .idxmax() and .idxmin() on 'word_count', then use .loc[] to get the headlines\n",
    "\n",
    "# YOUR CODE HERE\n"
   ]
  },
  {
   "cell_type": "markdown",
   "metadata": {},
   "source": [
    "## 5. Word Frequency - Introduction (COMPLETED)\n",
    "\n",
    "Let's count how often specific words appear in our headlines."
   ]
  },
  {
   "cell_type": "code",
   "execution_count": null,
   "metadata": {},
   "outputs": [],
   "source": [
    "# Combine all headlines into one big text (convert to lowercase first)\n",
    "all_text = ' '.join(df['headline'].str.lower())\n",
    "print(f\"Total characters: {len(all_text)}\")\n",
    "print(f\"First 200 characters: {all_text[:200]}\")"
   ]
  },
  {
   "cell_type": "code",
   "execution_count": null,
   "metadata": {},
   "outputs": [],
   "source": [
    "# Split into individual words\n",
    "all_words = all_text.split()\n",
    "print(f\"Total words: {len(all_words)}\")\n",
    "print(f\"First 20 words: {all_words[:20]}\")"
   ]
  },
  {
   "cell_type": "code",
   "execution_count": null,
   "metadata": {},
   "outputs": [],
   "source": [
    "# Count how many times specific words appear\n",
    "print(f\"Count of 'the': {all_words.count('the')}\")\n",
    "print(f\"Count of 'and': {all_words.count('and')}\")\n",
    "print(f\"Count of 'in': {all_words.count('in')}\")"
   ]
  },
  {
   "cell_type": "markdown",
   "metadata": {},
   "source": [
    "## 6. Most Common Words (TODO)\n",
    "\n",
    "Instead of counting words manually, let's find the most common words automatically."
   ]
  },
  {
   "cell_type": "code",
   "execution_count": null,
   "metadata": {},
   "outputs": [],
   "source": [
    "# TODO: Count ALL words and find the 15 most common\n",
    "# Hint: Counter is already imported at the top. Use Counter(all_words) and .most_common(15)\n",
    "\n",
    "# YOUR CODE HERE\n",
    "# word_counts = Counter(all_words)\n",
    "# most_common = word_counts.most_common(15)\n",
    "\n",
    "# Print the results\n",
    "# for word, count in most_common:\n",
    "#     print(f\"{word}: {count}\")"
   ]
  },
  {
   "cell_type": "code",
   "execution_count": null,
   "metadata": {},
   "outputs": [],
   "source": [
    "# TODO: Create a bar chart of the 15 most common words\n",
    "# Hint: Extract words and counts from most_common, then use plt.bar()\n",
    "\n",
    "# YOUR CODE HERE\n",
    "\n",
    "plt.figure(figsize=(12, 6))\n",
    "# YOUR CODE HERE\n",
    "plt.title('Top 15 Most Common Words')\n",
    "plt.xlabel('Word')\n",
    "plt.ylabel('Frequency')\n",
    "plt.xticks(rotation=45)\n",
    "plt.tight_layout()\n",
    "plt.show()"
   ]
  },
  {
   "cell_type": "markdown",
   "metadata": {},
   "source": [
    "**Question:** What do you notice about the most common words? Are they meaningful?\n",
    "\n",
    "*YOUR ANSWER HERE:* "
   ]
  },
  {
   "cell_type": "markdown",
   "metadata": {},
   "source": [
    "## 7. Words by Category (COMPLETED)\n",
    "\n",
    "Different categories might use different words. Let's analyze Sports headlines."
   ]
  },
  {
   "cell_type": "code",
   "execution_count": null,
   "metadata": {},
   "outputs": [],
   "source": [
    "# Get all Sports headlines (convert to lowercase)\n",
    "sports_headlines = df[df['category'] == 'Sports']['headline'].str.lower()\n",
    "print(f\"Number of Sports headlines: {len(sports_headlines)}\")\n",
    "print(f\"\\nFirst 5 Sports headlines:\")\n",
    "print(sports_headlines.head())"
   ]
  },
  {
   "cell_type": "code",
   "execution_count": null,
   "metadata": {},
   "outputs": [],
   "source": [
    "# Combine all Sports headlines\n",
    "sports_text = ' '.join(sports_headlines)\n",
    "sports_words = sports_text.split()\n",
    "\n",
    "# Count words\n",
    "sports_counter = Counter(sports_words)\n",
    "sports_top10 = sports_counter.most_common(10)\n",
    "\n",
    "print(\"Top 10 words in Sports headlines:\")\n",
    "for word, count in sports_top10:\n",
    "    print(f\"{word}: {count}\")"
   ]
  },
  {
   "cell_type": "markdown",
   "metadata": {},
   "source": [
    "## 8. Compare Categories (TODO)\n",
    "\n",
    "Let's compare word usage across different categories."
   ]
  },
  {
   "cell_type": "code",
   "execution_count": null,
   "metadata": {},
   "outputs": [],
   "source": [
    "# TODO: Find the top 10 words for each category\n",
    "# Hint: Create a loop that goes through each category and repeats what we did for Sports\n",
    "\n",
    "categories = ['Politics', 'Sports', 'Technology', 'Entertainment']\n",
    "\n",
    "# YOUR CODE HERE\n"
   ]
  },
  {
   "cell_type": "code",
   "execution_count": null,
   "metadata": {},
   "outputs": [],
   "source": [
    "# TODO: Which words appear most in Technology but not in Sports?\n",
    "# Hint: Get top words for Technology, then check if they appear in Sports top words\n",
    "\n",
    "# YOUR CODE HERE\n"
   ]
  },
  {
   "cell_type": "code",
   "execution_count": null,
   "metadata": {},
   "outputs": [],
   "source": [
    "# TODO: Find one unique word for each category\n",
    "# (A word that appears in one category but rarely or never in others)\n",
    "\n",
    "# YOUR CODE HERE\n"
   ]
  },
  {
   "cell_type": "markdown",
   "metadata": {},
   "source": [
    "## 9. Simple Visualization (TODO)\n",
    "\n",
    "Let's create some visualizations to better understand our data."
   ]
  },
  {
   "cell_type": "code",
   "execution_count": null,
   "metadata": {},
   "outputs": [],
   "source": [
    "# TODO: Create a histogram of word counts\n",
    "# Hint: Use plt.hist() on the 'word_count' column\n",
    "\n",
    "# YOUR CODE HERE\n",
    "\n",
    "plt.title('Distribution of Word Counts')\n",
    "plt.xlabel('Number of Words')\n",
    "plt.ylabel('Frequency')\n",
    "plt.show()"
   ]
  },
  {
   "cell_type": "code",
   "execution_count": null,
   "metadata": {},
   "outputs": [],
   "source": [
    "# TODO: Create a pie chart of category distribution\n",
    "# Hint: Use .value_counts().plot(kind='pie')\n",
    "\n",
    "# YOUR CODE HERE\n",
    "\n",
    "plt.title('Category Distribution')\n",
    "plt.ylabel('')\n",
    "plt.show()"
   ]
  },
  {
   "cell_type": "code",
   "execution_count": null,
   "metadata": {},
   "outputs": [],
   "source": [
    "# TODO: Do Technology headlines have more numbers than Sports headlines?\n",
    "# Hint: Calculate the percentage of headlines with numbers for each category\n",
    "\n",
    "# YOUR CODE HERE\n"
   ]
  },
  {
   "cell_type": "markdown",
   "metadata": {},
   "source": [
    "## 10. Text Patterns (TODO - BONUS)\n",
    "\n",
    "These are bonus exercises for extra practice!"
   ]
  },
  {
   "cell_type": "code",
   "execution_count": null,
   "metadata": {},
   "outputs": [],
   "source": [
    "# TODO: Count how many headlines contain the word 'new'\n",
    "# Hint: Use .str.contains() on the 'headline_lower' column\n",
    "\n",
    "# YOUR CODE HERE\n"
   ]
  },
  {
   "cell_type": "code",
   "execution_count": null,
   "metadata": {},
   "outputs": [],
   "source": [
    "# TODO: Which category uses the word 'wins' most often?\n",
    "\n",
    "# YOUR CODE HERE\n"
   ]
  },
  {
   "cell_type": "code",
   "execution_count": null,
   "metadata": {},
   "outputs": [],
   "source": [
    "# TODO: Find all headlines containing a keyword of your choice\n",
    "# Pick any word you're interested in!\n",
    "\n",
    "keyword = 'YOUR_KEYWORD_HERE'\n",
    "\n",
    "# YOUR CODE HERE\n"
   ]
  },
  {
   "cell_type": "markdown",
   "metadata": {},
   "source": [
    "## 11. Summary Questions\n",
    "\n",
    "Answer these questions based on your analysis:"
   ]
  },
  {
   "cell_type": "markdown",
   "metadata": {},
   "source": [
    "**1. What did you learn about news headlines from this analysis?**\n",
    "\n",
    "*YOUR ANSWER HERE:*"
   ]
  },
  {
   "cell_type": "markdown",
   "metadata": {},
   "source": [
    "**2. Which category has the longest headlines on average?**\n",
    "\n",
    "*YOUR ANSWER HERE:*"
   ]
  },
  {
   "cell_type": "code",
   "execution_count": null,
   "metadata": {},
   "outputs": [],
   "source": [
    "# Calculate average word count by category to answer question 2\n",
    "# YOUR CODE HERE\n"
   ]
  },
  {
   "cell_type": "markdown",
   "metadata": {},
   "source": [
    "**3. What patterns did you notice? (e.g., which words appear in which categories?)**\n",
    "\n",
    "*YOUR ANSWER HERE:*"
   ]
  },
  {
   "cell_type": "markdown",
   "metadata": {},
   "source": [
    "**4. What was the most surprising thing you discovered?**\n",
    "\n",
    "*YOUR ANSWER HERE:*"
   ]
  },
  {
   "cell_type": "markdown",
   "metadata": {},
   "source": [
    "---\n",
    "\n",
    "## Congratulations!\n",
    "\n",
    "You've completed your first NLP analysis! You've learned how to:\n",
    "- Load and explore text data\n",
    "- Perform basic text processing (lowercase, tokenization)\n",
    "- Count word frequencies\n",
    "- Compare text across categories\n",
    "- Create visualizations of text data\n",
    "\n",
    "These are fundamental skills for Natural Language Processing!"
   ]
  }
 ],
 "metadata": {
  "kernelspec": {
   "display_name": "Python 3 (ipykernel)",
   "language": "python",
   "name": "python3"
  },
  "language_info": {
   "codemirror_mode": {
    "name": "ipython",
    "version": 3
   },
   "file_extension": ".py",
   "mimetype": "text/x-python",
   "name": "python",
   "nbconvert_exporter": "python",
   "pygments_lexer": "ipython3",
   "version": "3.12.3"
  },
  "toc": {
   "base_numbering": 1,
   "nav_menu": {},
   "number_sections": true,
   "sideBar": true,
   "skip_h1_title": false,
   "title_cell": "Table of Contents",
   "title_sidebar": "Contents",
   "toc_cell": false,
   "toc_position": {},
   "toc_section_display": true,
   "toc_window_display": false
  }
 },
 "nbformat": 4,
 "nbformat_minor": 4
}
